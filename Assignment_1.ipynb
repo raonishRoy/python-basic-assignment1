{
 "cells": [
  {
   "cell_type": "markdown",
   "id": "542a1860",
   "metadata": {},
   "source": [
    "                                #ASSIGNMENT_1 OF PYTHON"
   ]
  },
  {
   "cell_type": "markdown",
   "id": "9a34a854",
   "metadata": {},
   "source": [
    "1.  In the below elements which of them are values or an expression? \n",
    "eg:- values can be integer or string and expressions will be mathematical operators.\n",
    "'hello'\n",
    "-87.8\n",
    "- \n",
    "/ \n",
    "+\t\n",
    "6 \n"
   ]
  },
  {
   "cell_type": "code",
   "execution_count": 7,
   "id": "e6e67e6f",
   "metadata": {},
   "outputs": [
    {
     "name": "stdout",
     "output_type": "stream",
     "text": [
      "<class 'str'>\n",
      "<class 'float'>\n",
      "<class 'int'>\n"
     ]
    }
   ],
   "source": [
    "print(type('hello'))  #it is a value beause its type is string\n",
    "print(type(-87.8))  #it is a value because its type is float\n",
    "print(type(6))  #it is a value because its type is integer\n"
   ]
  },
  {
   "cell_type": "raw",
   "id": "6b478ea6",
   "metadata": {},
   "source": [
    "- # it is an expression because it is a mathematical operator\n",
    "/ #it is an expression because it is a mathematical operator\n",
    "+ #it is an expression because it is a mathematical operator"
   ]
  },
  {
   "cell_type": "raw",
   "id": "2be3245c",
   "metadata": {},
   "source": [
    "2. What is the difference between string and variable?\n",
    "a) Variable is a symbol that you can use to store data in program. Simply it is a memory allocation to a data while writing  the program. While\n",
    "b) string is a data type in which generally text character is ued . When a variable is assigned with double or single inverted commas then that variable becomes a string. for ex:- name = \"raonish\" ,here name is a variable while raonish is string data type."
   ]
  },
  {
   "cell_type": "raw",
   "id": "a6f2c89e",
   "metadata": {},
   "source": [
    "3. Describe three different data types.\n",
    "There are many types of data types. Some of them are :-\n",
    "a) string (str)\n",
    "b) int (integer)\n",
    "c)float \n",
    "d) bool\n",
    "e)list\n",
    "f)tuple\n",
    "g)dict\n",
    "h)complex.\n",
    "         STRING(str)\n",
    "String is a data type in which variable is assigned between inverted commas.\n",
    "for example , A='ineuron' ,b=\"123\" .\n",
    "     INT\n",
    "int is a data type in which a variable is assigned using integer (0 to 9). For example :-\n",
    "A= 12, b=12334.\n",
    "    LIST\n",
    "List is a data type in which a variable is assigned using square bracket[].For example :-\n",
    "A= [1,2,3], b= [ 'rao',1,2,3]\n"
   ]
  },
  {
   "cell_type": "raw",
   "id": "307616a2",
   "metadata": {},
   "source": [
    "4.What is an expression made up of? What do all expressions do?\n",
    "An expression is made up of values ,vriables ,operators,and calls to function.\n",
    "All expressions is evaluated by interpreter and displays the result.For example:-\n",
    "a=5 \n",
    "b=10\n",
    "    \n",
    "c=a+b\n",
    "print(c) #here c is an expression using the add operator\n",
    "    "
   ]
  },
  {
   "cell_type": "code",
   "execution_count": null,
   "id": "693e55be",
   "metadata": {},
   "outputs": [],
   "source": []
  },
  {
   "cell_type": "markdown",
   "id": "f322e7f3",
   "metadata": {},
   "source": [
    "5. This assignment statements, like spam = 10. What is the difference between an expression and a statement?"
   ]
  },
  {
   "cell_type": "code",
   "execution_count": null,
   "id": "90bf543b",
   "metadata": {},
   "outputs": [],
   "source": [
    "An expression can be defined as any element in our utility that evaluates some values. An expression evaluates a value.\n",
    "\n",
    "\n",
    "\n",
    "Statements represent a motion or command e.g print statements, mission statements. Expressions need to be evaluated.\n",
    "\n",
    "An expression is any series of symbols that represents a value. For example, 2.9, a + 5, (3 + 5) / 4"
   ]
  },
  {
   "cell_type": "markdown",
   "id": "a0216445",
   "metadata": {},
   "source": [
    "6. After running the following code, what does the variable bacon contain?\n",
    "bacon = 22\n",
    "bacon + 1\n"
   ]
  },
  {
   "cell_type": "code",
   "execution_count": 11,
   "id": "2f5bba8c",
   "metadata": {},
   "outputs": [
    {
     "data": {
      "text/plain": [
       "23"
      ]
     },
     "execution_count": 11,
     "metadata": {},
     "output_type": "execute_result"
    }
   ],
   "source": [
    "bacon = 22\n",
    "bacon +1"
   ]
  },
  {
   "cell_type": "code",
   "execution_count": 12,
   "id": "87f77f5b",
   "metadata": {},
   "outputs": [
    {
     "data": {
      "text/plain": [
       "22"
      ]
     },
     "execution_count": 12,
     "metadata": {},
     "output_type": "execute_result"
    }
   ],
   "source": [
    "bacon # variable bacon contains 22"
   ]
  },
  {
   "cell_type": "markdown",
   "id": "2955ffb2",
   "metadata": {},
   "source": [
    "7. What should the values of the following two terms be?\n",
    "'spam' + 'spamspam'\n",
    "'spam' * 3\n"
   ]
  },
  {
   "cell_type": "code",
   "execution_count": 13,
   "id": "07503529",
   "metadata": {},
   "outputs": [
    {
     "data": {
      "text/plain": [
       "'spamspamspam'"
      ]
     },
     "execution_count": 13,
     "metadata": {},
     "output_type": "execute_result"
    }
   ],
   "source": [
    "'spam' + 'spamspam' # two string is added"
   ]
  },
  {
   "cell_type": "code",
   "execution_count": 16,
   "id": "d27b0166",
   "metadata": {},
   "outputs": [
    {
     "data": {
      "text/plain": [
       "'spamspamspam'"
      ]
     },
     "execution_count": 16,
     "metadata": {},
     "output_type": "execute_result"
    }
   ],
   "source": [
    "'spam'*3  # it will print spam three times"
   ]
  },
  {
   "cell_type": "raw",
   "id": "5181a7d5",
   "metadata": {},
   "source": [
    "8. Why is eggs a valid variable name while 100 is invalid?\n",
    "While assigning a variable name ,there is a certain rule which have to  follow.they are:-\n",
    "a) variable can start with alphabets and underscore.\n",
    "b) variable cannot start with numerical values\n",
    "hence eggs is a valid variable name while 100 is invalid.\n"
   ]
  },
  {
   "cell_type": "raw",
   "id": "271acb43",
   "metadata": {},
   "source": [
    "9. What three functions can be used to get the integer, floating-point number, or string version of a value?\n",
    "The three functions are used to get the integer ,floating-point number ,or string are:-\n",
    "a) int() for integer\n",
    "b) str() for string\n",
    "c) float() for floating-point number"
   ]
  },
  {
   "cell_type": "code",
   "execution_count": 17,
   "id": "e42cc33e",
   "metadata": {},
   "outputs": [
    {
     "name": "stdout",
     "output_type": "stream",
     "text": [
      "12 12.0 12\n"
     ]
    }
   ],
   "source": [
    "a= int(12)\n",
    "b= float(12)\n",
    "c= str(12)\n",
    "print(a,b,c)"
   ]
  },
  {
   "cell_type": "code",
   "execution_count": 18,
   "id": "8025d1b3",
   "metadata": {},
   "outputs": [
    {
     "data": {
      "text/plain": [
       "int"
      ]
     },
     "execution_count": 18,
     "metadata": {},
     "output_type": "execute_result"
    }
   ],
   "source": [
    "type(a) #type is int"
   ]
  },
  {
   "cell_type": "code",
   "execution_count": 19,
   "id": "21c5da14",
   "metadata": {},
   "outputs": [
    {
     "data": {
      "text/plain": [
       "float"
      ]
     },
     "execution_count": 19,
     "metadata": {},
     "output_type": "execute_result"
    }
   ],
   "source": [
    "type(b)# type is float"
   ]
  },
  {
   "cell_type": "code",
   "execution_count": 20,
   "id": "0bc3e637",
   "metadata": {},
   "outputs": [
    {
     "data": {
      "text/plain": [
       "str"
      ]
     },
     "execution_count": 20,
     "metadata": {},
     "output_type": "execute_result"
    }
   ],
   "source": [
    "type(c) #type is str"
   ]
  },
  {
   "cell_type": "markdown",
   "id": "e1d6ac03",
   "metadata": {},
   "source": [
    " 10. Why does this expression cause an error? How can you fix it?\n",
    "'I have eaten ' + 99 + ' burritos.'\n",
    "This expression cause an error because collaborating an string with integer.This can be fixed by data type casting converting int 99 into string data type"
   ]
  },
  {
   "cell_type": "code",
   "execution_count": 21,
   "id": "204c028f",
   "metadata": {},
   "outputs": [
    {
     "data": {
      "text/plain": [
       "'I have eaten 99 burritos.'"
      ]
     },
     "execution_count": 21,
     "metadata": {},
     "output_type": "execute_result"
    }
   ],
   "source": [
    "'I have eaten ' + str(99) + ' burritos.'"
   ]
  },
  {
   "cell_type": "code",
   "execution_count": null,
   "id": "55ad3c6a",
   "metadata": {},
   "outputs": [],
   "source": []
  }
 ],
 "metadata": {
  "kernelspec": {
   "display_name": "Python 3",
   "language": "python",
   "name": "python3"
  },
  "language_info": {
   "codemirror_mode": {
    "name": "ipython",
    "version": 3
   },
   "file_extension": ".py",
   "mimetype": "text/x-python",
   "name": "python",
   "nbconvert_exporter": "python",
   "pygments_lexer": "ipython3",
   "version": "3.8.8"
  }
 },
 "nbformat": 4,
 "nbformat_minor": 5
}
